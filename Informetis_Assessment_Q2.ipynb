{
 "cells": [
  {
   "cell_type": "markdown",
   "metadata": {},
   "source": [
    "# Informetis Assessment Q2"
   ]
  },
  {
   "cell_type": "markdown",
   "metadata": {},
   "source": [
    "A string, S, containing N brackets is correctly matched if any of these criteria are met:\n",
    "\n",
    "+ len(S) == 0,\n",
    "+ S is “(A)” or “[A]” or “{A}”, where A is a correctly matched string,\n",
    "+ S is “AB”, where both A and B are correctly matched strings.\n",
    "\n",
    "For example, “{}([[]])” and “()[]” are considered matched, whereas “(]()” and “(({)})” are not.\n",
    "\n",
    "Please write a function, “is_matched(S)”, that returns True if S is correctly matched and False if not.\n",
    "+ You can assume that the string S contains only brackets and is shorter than 200,000 characters.\n",
    "+ The time and space complexities of your answer should be O(n).\n",
    "\n",
    "(Note: Please use Python if you are comfortable with it, although any other\n",
    "programming language is acceptable if not.)"
   ]
  },
  {
   "cell_type": "markdown",
   "metadata": {},
   "source": [
    "# Answer "
   ]
  },
  {
   "cell_type": "code",
   "execution_count": 1,
   "metadata": {},
   "outputs": [],
   "source": [
    "def is_matched(str_input):\n",
    "    \n",
    "    brackets_open = {\"(\":1, \"[\":2, \"{\":3}\n",
    "    brackets_close = {1:\")\", 2:\"]\", 3:\"}\"}\n",
    "    \n",
    "    bracket_stack = []\n",
    "    \n",
    "    if len(str_input)<1:\n",
    "        return True\n",
    "    \n",
    "    else:\n",
    "\n",
    "        for i, ch in enumerate(str_input):\n",
    "\n",
    "            print(\"Progress: {}/{}\".format(i+1, len(str_input)))\n",
    "            print(\"Processing for character: {}\".format(ch))\n",
    "            print(\"Current Stack: {}\\n\".format(bracket_stack))\n",
    "\n",
    "            if len(bracket_stack)<1 or brackets_open.get(ch) != None:\n",
    "                bracket_stack.append(brackets_open.get(ch))\n",
    "            elif brackets_close.get(bracket_stack[-1]) == ch:\n",
    "                bracket_stack.pop()\n",
    "            else:\n",
    "                print(\"Final Stack: {}\\n\".format(bracket_stack))\n",
    "                return False\n",
    "        \n",
    "        print(\"Final Stack: {}\\n\".format(bracket_stack))\n",
    "        return not bool(bracket_stack)"
   ]
  },
  {
   "cell_type": "markdown",
   "metadata": {},
   "source": [
    "## Discussion"
   ]
  },
  {
   "cell_type": "markdown",
   "metadata": {},
   "source": [
    "In the `is_matched` function, the variable `bracket_stack` refers to a list of currently open brackets, that needs closing at the time of processing. Prior to returning a boolen, it checks for every open bracket to be closed in an balanced order. The code only loops through the entire input string once, thereby keeping the algorithmic complexity to O(n), with every internal operation, including list indexing and getting a dictionary item is of the complexity O(1). Following are the examples of calling the `is_matched` function."
   ]
  },
  {
   "cell_type": "markdown",
   "metadata": {},
   "source": [
    "## Examples"
   ]
  },
  {
   "cell_type": "code",
   "execution_count": 2,
   "metadata": {},
   "outputs": [
    {
     "name": "stdout",
     "output_type": "stream",
     "text": [
      "Progress: 1/9\n",
      "Processing for character: (\n",
      "Current Stack: []\n",
      "\n",
      "Progress: 2/9\n",
      "Processing for character: {\n",
      "Current Stack: [1]\n",
      "\n",
      "Progress: 3/9\n",
      "Processing for character: [\n",
      "Current Stack: [1, 3]\n",
      "\n",
      "Progress: 4/9\n",
      "Processing for character: (\n",
      "Current Stack: [1, 3, 2]\n",
      "\n",
      "Progress: 5/9\n",
      "Processing for character: ]\n",
      "Current Stack: [1, 3, 2, 1]\n",
      "\n",
      "Final Stack: [1, 3, 2, 1]\n",
      "\n"
     ]
    },
    {
     "data": {
      "text/plain": [
       "False"
      ]
     },
     "execution_count": 2,
     "metadata": {},
     "output_type": "execute_result"
    }
   ],
   "source": [
    "is_matched('({[(]})[]')"
   ]
  },
  {
   "cell_type": "code",
   "execution_count": 3,
   "metadata": {},
   "outputs": [
    {
     "name": "stdout",
     "output_type": "stream",
     "text": [
      "Progress: 1/6\n",
      "Processing for character: [\n",
      "Current Stack: []\n",
      "\n",
      "Progress: 2/6\n",
      "Processing for character: ]\n",
      "Current Stack: [2]\n",
      "\n",
      "Progress: 3/6\n",
      "Processing for character: (\n",
      "Current Stack: []\n",
      "\n",
      "Progress: 4/6\n",
      "Processing for character: {\n",
      "Current Stack: [1]\n",
      "\n",
      "Progress: 5/6\n",
      "Processing for character: }\n",
      "Current Stack: [1, 3]\n",
      "\n",
      "Progress: 6/6\n",
      "Processing for character: )\n",
      "Current Stack: [1]\n",
      "\n",
      "Final Stack: []\n",
      "\n"
     ]
    },
    {
     "data": {
      "text/plain": [
       "True"
      ]
     },
     "execution_count": 3,
     "metadata": {},
     "output_type": "execute_result"
    }
   ],
   "source": [
    "is_matched('[]({})')"
   ]
  },
  {
   "cell_type": "code",
   "execution_count": null,
   "metadata": {},
   "outputs": [],
   "source": []
  }
 ],
 "metadata": {
  "kernelspec": {
   "display_name": "Python 3.7.6 64-bit",
   "language": "python",
   "name": "python37664bit08c8039a2e9f4f088a943536b63c5af3"
  },
  "language_info": {
   "codemirror_mode": {
    "name": "ipython",
    "version": 3
   },
   "file_extension": ".py",
   "mimetype": "text/x-python",
   "name": "python",
   "nbconvert_exporter": "python",
   "pygments_lexer": "ipython3",
   "version": "3.7.6"
  }
 },
 "nbformat": 4,
 "nbformat_minor": 4
}
